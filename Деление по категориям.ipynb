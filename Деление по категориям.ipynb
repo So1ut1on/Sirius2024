{
 "cells": [
  {
   "cell_type": "markdown",
   "id": "28890e74-01a4-4079-8950-7a4bf96907ab",
   "metadata": {},
   "source": [
    "# Recommender Systems"
   ]
  },
  {
   "cell_type": "markdown",
   "id": "2a8ebbf9",
   "metadata": {},
   "source": [
    "# Библиотеки"
   ]
  },
  {
   "cell_type": "code",
   "execution_count": 3,
   "id": "87020f5c",
   "metadata": {},
   "outputs": [],
   "source": [
    "from abc import ABC, abstractmethod\n",
    "from typing import Dict, List\n",
    "\n",
    "import matplotlib.pyplot as plt\n",
    "import numpy as np\n",
    "import pandas as pd\n",
    "import pickle\n",
    "from implicit.als import AlternatingLeastSquares\n",
    "from scipy.sparse import csr_matrix\n",
    "from sklearn.preprocessing import LabelEncoder\n",
    "from tqdm.auto import tqdm\n"
   ]
  },
  {
   "cell_type": "markdown",
   "id": "d67f5995-4abb-410a-8b91-2aaca5712622",
   "metadata": {},
   "source": [
    "## Определим метрики:"
   ]
  },
  {
   "cell_type": "code",
   "execution_count": 4,
   "id": "d6d4f6a6-1a39-429e-8b1f-dc413574eef5",
   "metadata": {},
   "outputs": [],
   "source": [
    "# ACHTUNG! DO NOT TOUCH \n",
    "\n",
    "def ndcg_metric(gt_items: np.ndarray, predicted: np.ndarray) -> float:\n",
    "    at = len(predicted)\n",
    "    relevance = np.array([1 if x in predicted else 0 for x in gt_items])\n",
    "    # DCG uses the relevance of the recommended items\n",
    "    rank_dcg = dcg(relevance)\n",
    "    if rank_dcg == 0.0:\n",
    "        return 0.0\n",
    "\n",
    "    # IDCG has all relevances to 1 (or the values provided), up to the number of items in the test set that can fit in the list length\n",
    "    ideal_dcg = dcg(np.sort(relevance)[::-1][:at])\n",
    "\n",
    "    if ideal_dcg == 0.0:\n",
    "        return 0.0\n",
    "\n",
    "    ndcg_ = rank_dcg / ideal_dcg\n",
    "\n",
    "    return ndcg_\n",
    "\n",
    "\n",
    "def dcg(scores: np.ndarray) -> float:\n",
    "    return np.sum(\n",
    "        np.divide(np.power(2, scores) - 1, np.log2(np.arange(scores.shape[0], dtype=np.float64) + 2)), dtype=np.float64\n",
    "    )\n",
    "\n",
    "\n",
    "def recall_metric(gt_items: np.ndarray, predicted: np.ndarray) -> float:\n",
    "    n_gt = len(gt_items)\n",
    "    intersection = len(set(gt_items).intersection(set(predicted)))\n",
    "    return intersection / n_gt\n",
    "\n",
    "\n",
    "def evaluate_recommender(df: pd.DataFrame, model_preds_col: str, gt_col: str = \"movie_id\") -> Dict[str, float]:\n",
    "    metric_values = []\n",
    "\n",
    "    for _, row in df.iterrows():\n",
    "        metric_values.append(\n",
    "            (ndcg_metric(row[gt_col], row[model_preds_col]), recall_metric(row[gt_col], row[model_preds_col]))\n",
    "        )\n",
    "\n",
    "    return {\"ndcg\": np.mean([x[0] for x in metric_values]), \"recall\": np.mean([x[1] for x in metric_values])}"
   ]
  },
  {
   "cell_type": "markdown",
   "id": "ac5ea33e",
   "metadata": {},
   "source": [
    "# Данные"
   ]
  },
  {
   "cell_type": "code",
   "execution_count": 5,
   "id": "4fe28e8d",
   "metadata": {},
   "outputs": [],
   "source": [
    "data_folder = \"data/\"\n",
    "\n",
    "users_df = pd.read_csv(data_folder + \"users_df.csv\")\n",
    "items_df = pd.read_csv(data_folder + \"items_df.csv\")\n",
    "\n",
    "countries = pd.read_csv(data_folder + \"countries.csv\")\n",
    "genres = pd.read_csv(data_folder + \"genres.csv\")\n",
    "staff = pd.read_csv(data_folder + \"staff.csv\")\n",
    "\n",
    "train_part = pd.read_csv(data_folder + \"train_data.csv\")#, parse_dates=[\"datetime\"])\n",
    "test_part = pd.read_csv(data_folder + \"test_data.csv\")\n",
    "test_part = test_part.groupby(\"user_id\").agg({\"movie_id\": list}).reset_index()\n"
   ]
  },
  {
   "cell_type": "code",
   "execution_count": 6,
   "id": "680e04ac-2457-4113-a90e-4548ebd8abc3",
   "metadata": {},
   "outputs": [],
   "source": [
    "train_part = train_part.sort_values('movie_id')\n",
    "train_part_with_users = train_part.merge(users_df, on = 'user_id' ,how = 'left')"
   ]
  },
  {
   "cell_type": "code",
   "execution_count": 7,
   "id": "d3ad0cb7-53f3-4644-9656-df3deed1d226",
   "metadata": {},
   "outputs": [],
   "source": [
    "# Рекомендации по всем пользователям\n",
    "recommendations = train_part['movie_id'].value_counts().index.values[:300] # самые просматриваемые видео"
   ]
  },
  {
   "cell_type": "markdown",
   "id": "86b163bc-8165-4230-9b37-2f1ba69b57b1",
   "metadata": {},
   "source": [
    "# Определим самые просматриваемые видео для каждой категории пользователей:"
   ]
  },
  {
   "cell_type": "code",
   "execution_count": 8,
   "id": "9ed15fb3-fa2d-4149-b2f1-0fa5616aa748",
   "metadata": {},
   "outputs": [],
   "source": [
    "# По доходу:\n",
    "recom_income_1 = train_part_with_users[train_part_with_users['income'] == 'низкий']['movie_id'].value_counts().index.values[:300]\n",
    "recom_income_2 = train_part_with_users[train_part_with_users['income'] == 'средний']['movie_id'].value_counts().index.values[:300]\n",
    "recom_income_3 = train_part_with_users[train_part_with_users['income'] == 'высокий']['movie_id'].value_counts().index.values[:300]\n",
    "recom_income_4 = train_part_with_users[train_part_with_users['income'] == 'очень высокий']['movie_id'].value_counts().index.values[:300]\n",
    "\n",
    "mapping_income = {'низкий': recom_income_1,'средний': recom_income_2, 'высокий': recom_income_3, 'очень высокий': recom_income_4}"
   ]
  },
  {
   "cell_type": "code",
   "execution_count": 9,
   "id": "41476a09-8770-4de7-8075-ce012cdbc8b3",
   "metadata": {},
   "outputs": [],
   "source": [
    "# По полу:\n",
    "recom_female = train_part_with_users[train_part_with_users['sex'] == 'Женский']['movie_id'].value_counts().index.values[:300]\n",
    "recom_male = train_part_with_users[train_part_with_users['sex'] == 'Мужской']['movie_id'].value_counts().index.values[:300]\n",
    "\n",
    "mapping_sex = {'Женский': recom_female, 'Мужской': recom_male}"
   ]
  },
  {
   "cell_type": "code",
   "execution_count": 10,
   "id": "2937bcea-db36-49ce-a85f-0e02b3ee088c",
   "metadata": {},
   "outputs": [],
   "source": [
    "# По образованию\n",
    "recom_education_1 = train_part_with_users[train_part_with_users['education'] == 'Среднее']['movie_id'].value_counts().index.values[:300]\n",
    "recom_education_2 = train_part_with_users[train_part_with_users['education'] == 'Высшее']['movie_id'].value_counts().index.values[:300]\n",
    "recom_education_3 = train_part_with_users[train_part_with_users['education'] == 'Неполное высшее']['movie_id'].value_counts().index.values[:300]\n",
    "recom_education_4 = train_part_with_users[train_part_with_users['education'] == 'Без образования']['movie_id'].value_counts().index.values[:300]\n",
    "\n",
    "mapping_education = {'Среднее': recom_education_1,'Высшее': recom_education_2, 'Неполное высшее': recom_education_3, 'Без образования': recom_education_4}"
   ]
  },
  {
   "cell_type": "code",
   "execution_count": 11,
   "id": "49fa4a9b-f978-476c-954d-144ed0d950e8",
   "metadata": {},
   "outputs": [],
   "source": [
    "# По наличию детей\n",
    "recom_kids = train_part_with_users[train_part_with_users['kids_flg'] == 1.0]['movie_id'].value_counts().index.values[:300]\n",
    "recom_nokids = train_part_with_users[train_part_with_users['kids_flg'] == 0.0]['movie_id'].value_counts().index.values[:300]\n",
    "\n",
    "mapping_kids = {1.0: recom_kids, 0.0: recom_nokids}"
   ]
  },
  {
   "cell_type": "code",
   "execution_count": 12,
   "id": "d60c505a-36d6-49c9-8716-b7ba332bb8b4",
   "metadata": {},
   "outputs": [],
   "source": [
    "# По возрастной категории\n",
    "recom18 = train_part_with_users[train_part_with_users['age_category'] == '18-24']['movie_id'].value_counts().index.values[:300]\n",
    "recom25 = train_part_with_users[train_part_with_users['age_category'] == '25-34']['movie_id'].value_counts().index.values[:300]\n",
    "recom35 = train_part_with_users[train_part_with_users['age_category'] == '35-44']['movie_id'].value_counts().index.values[:300]\n",
    "recom45 = train_part_with_users[train_part_with_users['age_category'] == '45-54']['movie_id'].value_counts().index.values[:300]\n",
    "recom55 = train_part_with_users[train_part_with_users['age_category'] == '55-70']['movie_id'].value_counts().index.values[:300]\n",
    "\n",
    "mapping_ages = {'18-24': recom18,'25-34': recom25, '35-44': recom35, '45-54': recom45, '55-70': recom55}"
   ]
  },
  {
   "cell_type": "code",
   "execution_count": 13,
   "id": "4e35f3ba-a01f-4669-a7ea-89b82f4e2372",
   "metadata": {},
   "outputs": [],
   "source": [
    "recommendations = train_part['movie_id'].value_counts().index.values[:300]"
   ]
  },
  {
   "cell_type": "code",
   "execution_count": 14,
   "id": "081446eb-8111-4508-9bff-f18d149bac3b",
   "metadata": {},
   "outputs": [],
   "source": [
    "def my_predict(user, recommendations, train_part, mapping_ages):\n",
    "\n",
    "    # По возрасту:\n",
    "    # age_category = users_df[users_df['user_id'] == user]['age_category'].values[0]\n",
    "    # if age_category in {'18-24','25-34','35-44','45-54','55-70'}:\n",
    "    #     rec = mapping_ages.get(age_category)\n",
    "    # else:\n",
    "    #     rec = recommendations\n",
    "    \n",
    "    # По наличию детей:\n",
    "    # kids_flg = users_df[users_df['user_id'] == user]['kids_flg'].values[0]\n",
    "    # if kids_flg in [0.0, 1.0]:\n",
    "    #     # print('da')\n",
    "    #     rec = mapping_kids.get(kids_flg)\n",
    "    # else:\n",
    "    #     rec = recommendations\n",
    "\n",
    "    # По образованию:\n",
    "    # education = users_df[users_df['user_id'] == user]['education'].values[0]\n",
    "    # if education in mapping_education.keys():\n",
    "    #     # print('da', education)\n",
    "    #     rec = mapping_education.get(education)\n",
    "    # else:\n",
    "    #     rec = recommendations\n",
    "\n",
    "    # По полу:\n",
    "    # sex = users_df[users_df['user_id'] == user]['sex'].values[0]\n",
    "    # if sex in mapping_sex.keys():\n",
    "    #     # print('da', education)\n",
    "    #     rec = mapping_sex.get(sex)\n",
    "    # else:\n",
    "    #     rec = recommendations\n",
    "\n",
    "    # По доходу:   \n",
    "    income = users_df[users_df['user_id'] == user]['income'].values[0]\n",
    "    if income in mapping_income.keys():\n",
    "        rec = mapping_income.get(income)\n",
    "    else:\n",
    "        rec = recommendations\n",
    "    \n",
    "\n",
    "    user_movies = train_part[train_part['user_id'] == user]['movie_id'].values\n",
    "\n",
    "    filt_rec = [elem for elem in rec if elem not in set(user_movies)]\n",
    "    \n",
    "    # print(user_movies[:20], filt_rec[:20])\n",
    "    return filt_rec[:10]\n",
    "\n",
    "my_func = lambda user: my_predict(user = user, recommendations = recommendations, train_part = train_part, mapping_ages = mapping_ages)"
   ]
  },
  {
   "cell_type": "code",
   "execution_count": 16,
   "id": "54c4b672-c1fd-4667-8cdd-0812d2847a06",
   "metadata": {},
   "outputs": [
    {
     "name": "stdout",
     "output_type": "stream",
     "text": [
      "CPU times: total: 1min 28s\n",
      "Wall time: 1min 40s\n"
     ]
    },
    {
     "data": {
      "text/html": [
       "<div>\n",
       "<style scoped>\n",
       "    .dataframe tbody tr th:only-of-type {\n",
       "        vertical-align: middle;\n",
       "    }\n",
       "\n",
       "    .dataframe tbody tr th {\n",
       "        vertical-align: top;\n",
       "    }\n",
       "\n",
       "    .dataframe thead th {\n",
       "        text-align: right;\n",
       "    }\n",
       "</style>\n",
       "<table border=\"1\" class=\"dataframe\">\n",
       "  <thead>\n",
       "    <tr style=\"text-align: right;\">\n",
       "      <th></th>\n",
       "      <th>user_id</th>\n",
       "      <th>movie_id</th>\n",
       "      <th>predict_income</th>\n",
       "    </tr>\n",
       "  </thead>\n",
       "  <tbody>\n",
       "    <tr>\n",
       "      <th>0</th>\n",
       "      <td>0</td>\n",
       "      <td>[12.0, 6201.0, 5542.0, 2025.0, 190.0, 5358.0, ...</td>\n",
       "      <td>[484.0, 6194.0, 641.0, 2679.0, 2820.0, 5876.0,...</td>\n",
       "    </tr>\n",
       "    <tr>\n",
       "      <th>1</th>\n",
       "      <td>1</td>\n",
       "      <td>[2515.0, 1540.0, 5210.0, 1608.0, 3590.0, 7215....</td>\n",
       "      <td>[6194.0, 641.0, 2679.0, 2820.0, 5336.0, 2074.0...</td>\n",
       "    </tr>\n",
       "    <tr>\n",
       "      <th>2</th>\n",
       "      <td>2</td>\n",
       "      <td>[5998.0, 190.0, 7327.0, 947.0, 3814.0, 876.0, ...</td>\n",
       "      <td>[484.0, 6194.0, 5336.0, 2074.0, 2679.0, 2480.0...</td>\n",
       "    </tr>\n",
       "    <tr>\n",
       "      <th>3</th>\n",
       "      <td>3</td>\n",
       "      <td>[4812.0, 3935.0, 802.0, 4459.0, 4340.0, 5975.0...</td>\n",
       "      <td>[484.0, 6194.0, 2679.0, 641.0, 5336.0, 5876.0,...</td>\n",
       "    </tr>\n",
       "    <tr>\n",
       "      <th>4</th>\n",
       "      <td>4</td>\n",
       "      <td>[152.0, 195.0, 800.0, 2266.0, 6634.0, 7412.0, ...</td>\n",
       "      <td>[6194.0, 641.0, 2679.0, 5876.0, 2074.0, 1978.0...</td>\n",
       "    </tr>\n",
       "  </tbody>\n",
       "</table>\n",
       "</div>"
      ],
      "text/plain": [
       "   user_id                                           movie_id  \\\n",
       "0        0  [12.0, 6201.0, 5542.0, 2025.0, 190.0, 5358.0, ...   \n",
       "1        1  [2515.0, 1540.0, 5210.0, 1608.0, 3590.0, 7215....   \n",
       "2        2  [5998.0, 190.0, 7327.0, 947.0, 3814.0, 876.0, ...   \n",
       "3        3  [4812.0, 3935.0, 802.0, 4459.0, 4340.0, 5975.0...   \n",
       "4        4  [152.0, 195.0, 800.0, 2266.0, 6634.0, 7412.0, ...   \n",
       "\n",
       "                                      predict_income  \n",
       "0  [484.0, 6194.0, 641.0, 2679.0, 2820.0, 5876.0,...  \n",
       "1  [6194.0, 641.0, 2679.0, 2820.0, 5336.0, 2074.0...  \n",
       "2  [484.0, 6194.0, 5336.0, 2074.0, 2679.0, 2480.0...  \n",
       "3  [484.0, 6194.0, 2679.0, 641.0, 5336.0, 5876.0,...  \n",
       "4  [6194.0, 641.0, 2679.0, 5876.0, 2074.0, 1978.0...  "
      ]
     },
     "execution_count": 16,
     "metadata": {},
     "output_type": "execute_result"
    }
   ],
   "source": [
    "%%time\n",
    "test_part[\"predict_income\"] = test_part['user_id'].apply(my_func)\n",
    "test_part.head()"
   ]
  },
  {
   "cell_type": "code",
   "execution_count": 17,
   "id": "90eccb10-63e4-45ce-b4d3-f01f3ef7d12d",
   "metadata": {},
   "outputs": [
    {
     "data": {
      "text/plain": [
       "{'ndcg': 0.13482940546964242, 'recall': 0.06347190351054333}"
      ]
     },
     "execution_count": 17,
     "metadata": {},
     "output_type": "execute_result"
    }
   ],
   "source": [
    "evaluate_recommender(df=test_part, model_preds_col=\"predict_income\")"
   ]
  },
  {
   "cell_type": "markdown",
   "id": "6e1d86e0-7801-49ea-b587-857ae8108625",
   "metadata": {},
   "source": [
    "Лучший скор получаем, если делим пользователей по доходу. Еще одно отичие от бейзлайна - это исключение из рекомендаций видео, которые пользователь уже смотрел. Если делить по всем другим критериям, то скор будет немного хуже:\n",
    "{'ndcg': 0.13482940546964242, 'recall': 0.06347190351054333} - predict_income + ненужные убраны\n",
    "{'ndcg': 0.13395530914747164, 'recall': 0.06316759284277068} - predict_sex + ненужные убраны\n",
    "{'ndcg': 0.13394791301917217, 'recall': 0.06317175906920132} -predict_education + ненужные убраны\n",
    "{'ndcg': 0.1313561018280454, 'recall': 0.061327869644033056} -predict_kids + ненужные убраны\n",
    "{'ndcg': 0.12958166348560562, 'recall': 0.06052906438068992} -predict_ages + ненужные убраны\n",
    "{'ndcg': 0.1289555139863353, 'recall': 0.06034992834762613} ненужные убраны\n",
    "{'ndcg': 0.1213225408775555, 'recall': 0.05789212284812527} - скор бейзлайна"
   ]
  },
  {
   "cell_type": "markdown",
   "id": "eb4184c6-10a0-45ba-bb8a-9e12c3f799d9",
   "metadata": {},
   "source": [
    "# Сделаем немного иначе. Учтем время, которое люди смотрели видео"
   ]
  },
  {
   "cell_type": "markdown",
   "id": "0b06e38f-a8ed-4adb-8cb5-4db10d9a9751",
   "metadata": {},
   "source": [
    "### Оценим время каждого видео. Для этого возьмем квантиль 0.95 (Т.к. duration может быть и больше самого видео)"
   ]
  },
  {
   "cell_type": "code",
   "execution_count": 23,
   "id": "3f687efe-0b5f-4dde-ab02-d0cf70a8d8d7",
   "metadata": {},
   "outputs": [
    {
     "data": {
      "text/html": [
       "<div>\n",
       "<style scoped>\n",
       "    .dataframe tbody tr th:only-of-type {\n",
       "        vertical-align: middle;\n",
       "    }\n",
       "\n",
       "    .dataframe tbody tr th {\n",
       "        vertical-align: top;\n",
       "    }\n",
       "\n",
       "    .dataframe thead th {\n",
       "        text-align: right;\n",
       "    }\n",
       "</style>\n",
       "<table border=\"1\" class=\"dataframe\">\n",
       "  <thead>\n",
       "    <tr style=\"text-align: right;\">\n",
       "      <th></th>\n",
       "      <th>id</th>\n",
       "      <th>datetime</th>\n",
       "      <th>user_id</th>\n",
       "      <th>movie_id</th>\n",
       "      <th>duration</th>\n",
       "      <th>is_train</th>\n",
       "    </tr>\n",
       "  </thead>\n",
       "  <tbody>\n",
       "    <tr>\n",
       "      <th>397688</th>\n",
       "      <td>531685</td>\n",
       "      <td>2023-04-20 09:45:11.395639+03:00</td>\n",
       "      <td>23147</td>\n",
       "      <td>0.0</td>\n",
       "      <td>548.0</td>\n",
       "      <td>True</td>\n",
       "    </tr>\n",
       "    <tr>\n",
       "      <th>472395</th>\n",
       "      <td>640300</td>\n",
       "      <td>2023-04-22 22:51:27.269769+03:00</td>\n",
       "      <td>238515</td>\n",
       "      <td>0.0</td>\n",
       "      <td>6052.0</td>\n",
       "      <td>True</td>\n",
       "    </tr>\n",
       "    <tr>\n",
       "      <th>840846</th>\n",
       "      <td>1188907</td>\n",
       "      <td>2023-05-07 20:05:12.829575+03:00</td>\n",
       "      <td>5825</td>\n",
       "      <td>0.0</td>\n",
       "      <td>42.0</td>\n",
       "      <td>True</td>\n",
       "    </tr>\n",
       "    <tr>\n",
       "      <th>663341</th>\n",
       "      <td>922276</td>\n",
       "      <td>2023-04-30 16:54:57.456289+03:00</td>\n",
       "      <td>73889</td>\n",
       "      <td>0.0</td>\n",
       "      <td>5836.0</td>\n",
       "      <td>True</td>\n",
       "    </tr>\n",
       "    <tr>\n",
       "      <th>1228001</th>\n",
       "      <td>2316369</td>\n",
       "      <td>2023-06-10 16:10:37.519494+03:00</td>\n",
       "      <td>199807</td>\n",
       "      <td>0.0</td>\n",
       "      <td>2145.0</td>\n",
       "      <td>True</td>\n",
       "    </tr>\n",
       "  </tbody>\n",
       "</table>\n",
       "</div>"
      ],
      "text/plain": [
       "              id                          datetime  user_id  movie_id  \\\n",
       "397688    531685  2023-04-20 09:45:11.395639+03:00    23147       0.0   \n",
       "472395    640300  2023-04-22 22:51:27.269769+03:00   238515       0.0   \n",
       "840846   1188907  2023-05-07 20:05:12.829575+03:00     5825       0.0   \n",
       "663341    922276  2023-04-30 16:54:57.456289+03:00    73889       0.0   \n",
       "1228001  2316369  2023-06-10 16:10:37.519494+03:00   199807       0.0   \n",
       "\n",
       "         duration  is_train  \n",
       "397688      548.0      True  \n",
       "472395     6052.0      True  \n",
       "840846       42.0      True  \n",
       "663341     5836.0      True  \n",
       "1228001    2145.0      True  "
      ]
     },
     "execution_count": 23,
     "metadata": {},
     "output_type": "execute_result"
    }
   ],
   "source": [
    "train_part.head()"
   ]
  },
  {
   "cell_type": "code",
   "execution_count": 28,
   "id": "7d8f132e-7b7f-4f3c-9057-1102eab7d2e1",
   "metadata": {},
   "outputs": [],
   "source": [
    "movies_durations = train_part.groupby('movie_id')[['duration']].quantile(0.95).reset_index()\n",
    "movies_durations.rename(columns={'duration': 'movie_duration'}, inplace=True)"
   ]
  },
  {
   "cell_type": "code",
   "execution_count": 31,
   "id": "d03b4bdf-3499-40d5-9f58-8b6f9f8052e0",
   "metadata": {},
   "outputs": [],
   "source": [
    "train_part_dur = train_part.merge(movies_durations, on = 'movie_id', how = 'left')"
   ]
  },
  {
   "cell_type": "code",
   "execution_count": 33,
   "id": "3684ee95-a93f-4a91-9c31-b896f80c5be6",
   "metadata": {},
   "outputs": [],
   "source": [
    "# Определим часть просмотренного видео:\n",
    "train_part_dur['satisfaction'] = train_part_dur['duration'] / train_part_dur['movie_duration']"
   ]
  },
  {
   "cell_type": "code",
   "execution_count": 37,
   "id": "529f0df0-05cb-4e39-ac43-9ab5d53d93b7",
   "metadata": {},
   "outputs": [],
   "source": [
    "# Уберем значения > 1 \n",
    "train_part_dur['satisfaction'] = train_part_dur['satisfaction'].apply(lambda x: 1 if x > 1 else x) "
   ]
  },
  {
   "cell_type": "code",
   "execution_count": 48,
   "id": "c86252cc-14a7-4b84-8ba6-837892ce7344",
   "metadata": {},
   "outputs": [],
   "source": [
    "# Получим рекомендации по суммарной удолетворенности\n",
    "recomendations_by_satisfaction = train_part_dur.groupby('movie_id')['satisfaction'].sum().sort_values(ascending=[False]).index.values[:300]"
   ]
  },
  {
   "cell_type": "code",
   "execution_count": 51,
   "id": "a672c7f0-e503-40df-8c9f-8fc9af16977b",
   "metadata": {},
   "outputs": [],
   "source": [
    "def my_predict(user, recommendations, train_part, mapping_ages):\n",
    "\n",
    "    rec = recommendations\n",
    "\n",
    "    user_movies = train_part[train_part['user_id'] == user]['movie_id'].values\n",
    "\n",
    "    filt_rec = [elem for elem in rec if elem not in set(user_movies)]\n",
    "    \n",
    "    return filt_rec[:10]\n",
    "\n",
    "my_func = lambda user: my_predict(user = user, recommendations = recomendations_by_satisfaction, train_part = train_part, mapping_ages = mapping_ages)"
   ]
  },
  {
   "cell_type": "code",
   "execution_count": 52,
   "id": "ccb23d64-e78f-480f-b489-8bcebc320e64",
   "metadata": {},
   "outputs": [
    {
     "name": "stdout",
     "output_type": "stream",
     "text": [
      "CPU times: total: 1min 10s\n",
      "Wall time: 1min 22s\n"
     ]
    },
    {
     "data": {
      "text/html": [
       "<div>\n",
       "<style scoped>\n",
       "    .dataframe tbody tr th:only-of-type {\n",
       "        vertical-align: middle;\n",
       "    }\n",
       "\n",
       "    .dataframe tbody tr th {\n",
       "        vertical-align: top;\n",
       "    }\n",
       "\n",
       "    .dataframe thead th {\n",
       "        text-align: right;\n",
       "    }\n",
       "</style>\n",
       "<table border=\"1\" class=\"dataframe\">\n",
       "  <thead>\n",
       "    <tr style=\"text-align: right;\">\n",
       "      <th></th>\n",
       "      <th>user_id</th>\n",
       "      <th>movie_id</th>\n",
       "      <th>predict_income</th>\n",
       "      <th>predict_satisfaction</th>\n",
       "    </tr>\n",
       "  </thead>\n",
       "  <tbody>\n",
       "    <tr>\n",
       "      <th>0</th>\n",
       "      <td>0</td>\n",
       "      <td>[12.0, 6201.0, 5542.0, 2025.0, 190.0, 5358.0, ...</td>\n",
       "      <td>[484.0, 6194.0, 641.0, 2679.0, 2820.0, 5876.0,...</td>\n",
       "      <td>[484.0, 6194.0, 2074.0, 2820.0, 1978.0, 5876.0...</td>\n",
       "    </tr>\n",
       "    <tr>\n",
       "      <th>1</th>\n",
       "      <td>1</td>\n",
       "      <td>[2515.0, 1540.0, 5210.0, 1608.0, 3590.0, 7215....</td>\n",
       "      <td>[6194.0, 641.0, 2679.0, 2820.0, 5336.0, 2074.0...</td>\n",
       "      <td>[6194.0, 2074.0, 2820.0, 1978.0, 5707.0, 1521....</td>\n",
       "    </tr>\n",
       "    <tr>\n",
       "      <th>2</th>\n",
       "      <td>2</td>\n",
       "      <td>[5998.0, 190.0, 7327.0, 947.0, 3814.0, 876.0, ...</td>\n",
       "      <td>[484.0, 6194.0, 5336.0, 2074.0, 2679.0, 2480.0...</td>\n",
       "      <td>[484.0, 6194.0, 2074.0, 1978.0, 5876.0, 5707.0...</td>\n",
       "    </tr>\n",
       "    <tr>\n",
       "      <th>3</th>\n",
       "      <td>3</td>\n",
       "      <td>[4812.0, 3935.0, 802.0, 4459.0, 4340.0, 5975.0...</td>\n",
       "      <td>[484.0, 6194.0, 2679.0, 641.0, 5336.0, 5876.0,...</td>\n",
       "      <td>[484.0, 6194.0, 2074.0, 1978.0, 5876.0, 5707.0...</td>\n",
       "    </tr>\n",
       "    <tr>\n",
       "      <th>4</th>\n",
       "      <td>4</td>\n",
       "      <td>[152.0, 195.0, 800.0, 2266.0, 6634.0, 7412.0, ...</td>\n",
       "      <td>[6194.0, 641.0, 2679.0, 5876.0, 2074.0, 1978.0...</td>\n",
       "      <td>[6194.0, 2074.0, 1978.0, 5876.0, 5707.0, 2679....</td>\n",
       "    </tr>\n",
       "  </tbody>\n",
       "</table>\n",
       "</div>"
      ],
      "text/plain": [
       "   user_id                                           movie_id  \\\n",
       "0        0  [12.0, 6201.0, 5542.0, 2025.0, 190.0, 5358.0, ...   \n",
       "1        1  [2515.0, 1540.0, 5210.0, 1608.0, 3590.0, 7215....   \n",
       "2        2  [5998.0, 190.0, 7327.0, 947.0, 3814.0, 876.0, ...   \n",
       "3        3  [4812.0, 3935.0, 802.0, 4459.0, 4340.0, 5975.0...   \n",
       "4        4  [152.0, 195.0, 800.0, 2266.0, 6634.0, 7412.0, ...   \n",
       "\n",
       "                                      predict_income  \\\n",
       "0  [484.0, 6194.0, 641.0, 2679.0, 2820.0, 5876.0,...   \n",
       "1  [6194.0, 641.0, 2679.0, 2820.0, 5336.0, 2074.0...   \n",
       "2  [484.0, 6194.0, 5336.0, 2074.0, 2679.0, 2480.0...   \n",
       "3  [484.0, 6194.0, 2679.0, 641.0, 5336.0, 5876.0,...   \n",
       "4  [6194.0, 641.0, 2679.0, 5876.0, 2074.0, 1978.0...   \n",
       "\n",
       "                                predict_satisfaction  \n",
       "0  [484.0, 6194.0, 2074.0, 2820.0, 1978.0, 5876.0...  \n",
       "1  [6194.0, 2074.0, 2820.0, 1978.0, 5707.0, 1521....  \n",
       "2  [484.0, 6194.0, 2074.0, 1978.0, 5876.0, 5707.0...  \n",
       "3  [484.0, 6194.0, 2074.0, 1978.0, 5876.0, 5707.0...  \n",
       "4  [6194.0, 2074.0, 1978.0, 5876.0, 5707.0, 2679....  "
      ]
     },
     "execution_count": 52,
     "metadata": {},
     "output_type": "execute_result"
    }
   ],
   "source": [
    "%%time\n",
    "test_part[\"predict_satisfaction\"] = test_part['user_id'].apply(my_func)\n",
    "test_part.head()"
   ]
  },
  {
   "cell_type": "markdown",
   "id": "71bb245e-f108-405d-87ac-36e8aa4e97d4",
   "metadata": {},
   "source": [
    "### Получим следующую оценку:"
   ]
  },
  {
   "cell_type": "code",
   "execution_count": 53,
   "id": "d51b31e7-f848-43c1-851a-8a89accb7a96",
   "metadata": {},
   "outputs": [
    {
     "data": {
      "text/plain": [
       "{'ndcg': 0.08464253875179696, 'recall': 0.03539089332964322}"
      ]
     },
     "execution_count": 53,
     "metadata": {},
     "output_type": "execute_result"
    }
   ],
   "source": [
    "evaluate_recommender(df=test_part, model_preds_col=\"predict_satisfaction\")"
   ]
  },
  {
   "cell_type": "markdown",
   "id": "f7e8c98c-5c19-4fdc-aff7-ba23f4bfba66",
   "metadata": {},
   "source": [
    "### Попробуем предсказать по суммарному времени просмотров"
   ]
  },
  {
   "cell_type": "code",
   "execution_count": 59,
   "id": "758e3f56-4a71-454a-b8bc-0e6b8a0b9de1",
   "metadata": {},
   "outputs": [],
   "source": [
    "# Определим часть просмотренного видео:\n",
    "train_part_dur['cut_whatch_time'] = train_part_dur['movie_duration'] * train_part_dur['satisfaction']"
   ]
  },
  {
   "cell_type": "code",
   "execution_count": 62,
   "id": "96d41d05-2a10-468b-a597-fd894c3cb107",
   "metadata": {},
   "outputs": [],
   "source": [
    "# Получим рекомендации по суммарному времени просмотра:\n",
    "recomendations_by_whatch_time = train_part_dur.groupby('movie_id')['cut_whatch_time'].sum().sort_values(ascending=[False]).index.values[:300]"
   ]
  },
  {
   "cell_type": "code",
   "execution_count": 64,
   "id": "6927fa90-9c8f-4903-9f16-5a6da33fd3b6",
   "metadata": {},
   "outputs": [],
   "source": [
    "def my_predict(user, recommendations, train_part, mapping_ages):\n",
    "\n",
    "    rec = recommendations\n",
    "\n",
    "    user_movies = train_part[train_part['user_id'] == user]['movie_id'].values\n",
    "\n",
    "    filt_rec = [elem for elem in rec if elem not in set(user_movies)]\n",
    "    \n",
    "    return filt_rec[:10]\n",
    "\n",
    "my_func = lambda user: my_predict(user = user, recommendations = recomendations_by_whatch_time, train_part = train_part, mapping_ages = mapping_ages)"
   ]
  },
  {
   "cell_type": "code",
   "execution_count": 65,
   "id": "f3e17164-9f55-4c2d-9c9f-635bb0aa6d8f",
   "metadata": {},
   "outputs": [
    {
     "name": "stdout",
     "output_type": "stream",
     "text": [
      "CPU times: total: 1min 13s\n",
      "Wall time: 1min 24s\n"
     ]
    },
    {
     "data": {
      "text/html": [
       "<div>\n",
       "<style scoped>\n",
       "    .dataframe tbody tr th:only-of-type {\n",
       "        vertical-align: middle;\n",
       "    }\n",
       "\n",
       "    .dataframe tbody tr th {\n",
       "        vertical-align: top;\n",
       "    }\n",
       "\n",
       "    .dataframe thead th {\n",
       "        text-align: right;\n",
       "    }\n",
       "</style>\n",
       "<table border=\"1\" class=\"dataframe\">\n",
       "  <thead>\n",
       "    <tr style=\"text-align: right;\">\n",
       "      <th></th>\n",
       "      <th>user_id</th>\n",
       "      <th>movie_id</th>\n",
       "      <th>predict_income</th>\n",
       "      <th>predict_satisfaction</th>\n",
       "      <th>predict_by_whatch_time</th>\n",
       "    </tr>\n",
       "  </thead>\n",
       "  <tbody>\n",
       "    <tr>\n",
       "      <th>0</th>\n",
       "      <td>0</td>\n",
       "      <td>[12.0, 6201.0, 5542.0, 2025.0, 190.0, 5358.0, ...</td>\n",
       "      <td>[484.0, 6194.0, 641.0, 2679.0, 2820.0, 5876.0,...</td>\n",
       "      <td>[484.0, 6194.0, 2074.0, 2820.0, 1978.0, 5876.0...</td>\n",
       "      <td>[484.0, 6194.0, 5876.0, 2480.0, 2679.0, 2074.0...</td>\n",
       "    </tr>\n",
       "    <tr>\n",
       "      <th>1</th>\n",
       "      <td>1</td>\n",
       "      <td>[2515.0, 1540.0, 5210.0, 1608.0, 3590.0, 7215....</td>\n",
       "      <td>[6194.0, 641.0, 2679.0, 2820.0, 5336.0, 2074.0...</td>\n",
       "      <td>[6194.0, 2074.0, 2820.0, 1978.0, 5707.0, 1521....</td>\n",
       "      <td>[6194.0, 2480.0, 2679.0, 2074.0, 5707.0, 1978....</td>\n",
       "    </tr>\n",
       "    <tr>\n",
       "      <th>2</th>\n",
       "      <td>2</td>\n",
       "      <td>[5998.0, 190.0, 7327.0, 947.0, 3814.0, 876.0, ...</td>\n",
       "      <td>[484.0, 6194.0, 5336.0, 2074.0, 2679.0, 2480.0...</td>\n",
       "      <td>[484.0, 6194.0, 2074.0, 1978.0, 5876.0, 5707.0...</td>\n",
       "      <td>[484.0, 6194.0, 5876.0, 2480.0, 2679.0, 2074.0...</td>\n",
       "    </tr>\n",
       "    <tr>\n",
       "      <th>3</th>\n",
       "      <td>3</td>\n",
       "      <td>[4812.0, 3935.0, 802.0, 4459.0, 4340.0, 5975.0...</td>\n",
       "      <td>[484.0, 6194.0, 2679.0, 641.0, 5336.0, 5876.0,...</td>\n",
       "      <td>[484.0, 6194.0, 2074.0, 1978.0, 5876.0, 5707.0...</td>\n",
       "      <td>[484.0, 6194.0, 5876.0, 2480.0, 2679.0, 2074.0...</td>\n",
       "    </tr>\n",
       "    <tr>\n",
       "      <th>4</th>\n",
       "      <td>4</td>\n",
       "      <td>[152.0, 195.0, 800.0, 2266.0, 6634.0, 7412.0, ...</td>\n",
       "      <td>[6194.0, 641.0, 2679.0, 5876.0, 2074.0, 1978.0...</td>\n",
       "      <td>[6194.0, 2074.0, 1978.0, 5876.0, 5707.0, 2679....</td>\n",
       "      <td>[6194.0, 5876.0, 2679.0, 2074.0, 5707.0, 1978....</td>\n",
       "    </tr>\n",
       "  </tbody>\n",
       "</table>\n",
       "</div>"
      ],
      "text/plain": [
       "   user_id                                           movie_id  \\\n",
       "0        0  [12.0, 6201.0, 5542.0, 2025.0, 190.0, 5358.0, ...   \n",
       "1        1  [2515.0, 1540.0, 5210.0, 1608.0, 3590.0, 7215....   \n",
       "2        2  [5998.0, 190.0, 7327.0, 947.0, 3814.0, 876.0, ...   \n",
       "3        3  [4812.0, 3935.0, 802.0, 4459.0, 4340.0, 5975.0...   \n",
       "4        4  [152.0, 195.0, 800.0, 2266.0, 6634.0, 7412.0, ...   \n",
       "\n",
       "                                      predict_income  \\\n",
       "0  [484.0, 6194.0, 641.0, 2679.0, 2820.0, 5876.0,...   \n",
       "1  [6194.0, 641.0, 2679.0, 2820.0, 5336.0, 2074.0...   \n",
       "2  [484.0, 6194.0, 5336.0, 2074.0, 2679.0, 2480.0...   \n",
       "3  [484.0, 6194.0, 2679.0, 641.0, 5336.0, 5876.0,...   \n",
       "4  [6194.0, 641.0, 2679.0, 5876.0, 2074.0, 1978.0...   \n",
       "\n",
       "                                predict_satisfaction  \\\n",
       "0  [484.0, 6194.0, 2074.0, 2820.0, 1978.0, 5876.0...   \n",
       "1  [6194.0, 2074.0, 2820.0, 1978.0, 5707.0, 1521....   \n",
       "2  [484.0, 6194.0, 2074.0, 1978.0, 5876.0, 5707.0...   \n",
       "3  [484.0, 6194.0, 2074.0, 1978.0, 5876.0, 5707.0...   \n",
       "4  [6194.0, 2074.0, 1978.0, 5876.0, 5707.0, 2679....   \n",
       "\n",
       "                              predict_by_whatch_time  \n",
       "0  [484.0, 6194.0, 5876.0, 2480.0, 2679.0, 2074.0...  \n",
       "1  [6194.0, 2480.0, 2679.0, 2074.0, 5707.0, 1978....  \n",
       "2  [484.0, 6194.0, 5876.0, 2480.0, 2679.0, 2074.0...  \n",
       "3  [484.0, 6194.0, 5876.0, 2480.0, 2679.0, 2074.0...  \n",
       "4  [6194.0, 5876.0, 2679.0, 2074.0, 5707.0, 1978....  "
      ]
     },
     "execution_count": 65,
     "metadata": {},
     "output_type": "execute_result"
    }
   ],
   "source": [
    "%%time\n",
    "test_part[\"predict_by_whatch_time\"] = test_part['user_id'].apply(my_func)\n",
    "test_part.head()"
   ]
  },
  {
   "cell_type": "code",
   "execution_count": 66,
   "id": "71026757-726c-4bc1-b481-8ab92afd1c3e",
   "metadata": {},
   "outputs": [
    {
     "data": {
      "text/plain": [
       "{'ndcg': 0.07611247642258426, 'recall': 0.03251856388023836}"
      ]
     },
     "execution_count": 66,
     "metadata": {},
     "output_type": "execute_result"
    }
   ],
   "source": [
    "evaluate_recommender(df=test_part, model_preds_col=\"predict_by_whatch_time\")"
   ]
  },
  {
   "cell_type": "markdown",
   "id": "a98cb2ce-a109-4cb8-a376-46b284532659",
   "metadata": {},
   "source": [
    "## Вернемся к предыдущему подходу сегментирования по категориям и попробуем отбирать видео, учитывая все характеристики пользователя"
   ]
  },
  {
   "cell_type": "code",
   "execution_count": 67,
   "id": "c8481409-d0ef-48a9-a0bb-8062193fb993",
   "metadata": {},
   "outputs": [],
   "source": [
    "def my_predict(user, recommendations, train_part, mapping_ages):\n",
    "    \n",
    "    age_category = users_df[users_df['user_id'] == user]['age_category'].values[0]\n",
    "    if age_category in {'18-24','25-34','35-44','45-54','55-70'}:\n",
    "        rec_age = mapping_ages.get(age_category)\n",
    "    else:\n",
    "        rec_age = recommendations\n",
    "\n",
    "    kids_flg = users_df[users_df['user_id'] == user]['kids_flg'].values[0]\n",
    "    if kids_flg in [0.0, 1.0]:\n",
    "        rec_kids = mapping_kids.get(kids_flg)\n",
    "    else:\n",
    "        rec_kids = recommendations\n",
    "\n",
    "    education = users_df[users_df['user_id'] == user]['education'].values[0]\n",
    "    if education in mapping_education.keys():\n",
    "        rec_education = mapping_education.get(education)\n",
    "    else:\n",
    "        rec_education = recommendations\n",
    "\n",
    "    sex = users_df[users_df['user_id'] == user]['sex'].values[0]\n",
    "    if sex in mapping_sex.keys():\n",
    "        rec_sex = mapping_sex.get(sex)\n",
    "    else:\n",
    "        rec_sex = recommendations\n",
    "\n",
    "    income = users_df[users_df['user_id'] == user]['income'].values[0]\n",
    "    if income in mapping_income.keys():\n",
    "        rec_income = mapping_income.get(income)\n",
    "    else:\n",
    "        rec_income = recommendations\n",
    "\n",
    "    rec = rec_income\n",
    "\n",
    "    movie_scores = {}\n",
    "    \n",
    "    # Функция для добавления очков\n",
    "    def add_scores(movie_list):\n",
    "        for index, movie in enumerate(movie_list):\n",
    "            # Очки равны позиции + 1 (индексация начинается с 0)\n",
    "            score = len(movie_list) - index  # Чем выше позиция, тем больше очков\n",
    "            if movie in movie_scores:\n",
    "                movie_scores[movie] += score\n",
    "            else:\n",
    "                movie_scores[movie] = score\n",
    "                \n",
    "    # Присвоение очков из каждого списка\n",
    "    add_scores(rec_age)\n",
    "    add_scores(rec_kids)\n",
    "    add_scores(rec_education)\n",
    "    add_scores(rec_sex)\n",
    "    add_scores(rec_income)\n",
    "    \n",
    "    # Сортировка фильмов по сумме очков\n",
    "    sorted_recommendations = sorted(movie_scores.items(), key=lambda x: x[1], reverse=True)\n",
    "    \n",
    "    user_movies = train_part[train_part['user_id'] == user]['movie_id'].values\n",
    "\n",
    "    recommended_movies = [movie for movie, score in sorted_recommendations]\n",
    "\n",
    "    filt_rec = [elem for elem in recommended_movies if elem not in set(user_movies)]\n",
    "    \n",
    "    return filt_rec[:10]\n",
    "\n",
    "my_func = lambda user: my_predict(user = user, recommendations = recommendations, train_part = train_part, mapping_ages = mapping_ages)"
   ]
  },
  {
   "cell_type": "code",
   "execution_count": 68,
   "id": "759c74b3-c83b-4644-9cfd-b481b408f5d7",
   "metadata": {},
   "outputs": [
    {
     "name": "stdout",
     "output_type": "stream",
     "text": [
      "CPU times: total: 2min 53s\n",
      "Wall time: 3min 20s\n"
     ]
    },
    {
     "data": {
      "text/html": [
       "<div>\n",
       "<style scoped>\n",
       "    .dataframe tbody tr th:only-of-type {\n",
       "        vertical-align: middle;\n",
       "    }\n",
       "\n",
       "    .dataframe tbody tr th {\n",
       "        vertical-align: top;\n",
       "    }\n",
       "\n",
       "    .dataframe thead th {\n",
       "        text-align: right;\n",
       "    }\n",
       "</style>\n",
       "<table border=\"1\" class=\"dataframe\">\n",
       "  <thead>\n",
       "    <tr style=\"text-align: right;\">\n",
       "      <th></th>\n",
       "      <th>user_id</th>\n",
       "      <th>movie_id</th>\n",
       "      <th>predict_income</th>\n",
       "      <th>predict_satisfaction</th>\n",
       "      <th>predict_by_whatch_time</th>\n",
       "      <th>predict_by_scores</th>\n",
       "    </tr>\n",
       "  </thead>\n",
       "  <tbody>\n",
       "    <tr>\n",
       "      <th>0</th>\n",
       "      <td>0</td>\n",
       "      <td>[12.0, 6201.0, 5542.0, 2025.0, 190.0, 5358.0, ...</td>\n",
       "      <td>[484.0, 6194.0, 641.0, 2679.0, 2820.0, 5876.0,...</td>\n",
       "      <td>[484.0, 6194.0, 2074.0, 2820.0, 1978.0, 5876.0...</td>\n",
       "      <td>[484.0, 6194.0, 5876.0, 2480.0, 2679.0, 2074.0...</td>\n",
       "      <td>[484.0, 6194.0, 641.0, 2679.0, 2820.0, 5876.0,...</td>\n",
       "    </tr>\n",
       "    <tr>\n",
       "      <th>1</th>\n",
       "      <td>1</td>\n",
       "      <td>[2515.0, 1540.0, 5210.0, 1608.0, 3590.0, 7215....</td>\n",
       "      <td>[6194.0, 641.0, 2679.0, 2820.0, 5336.0, 2074.0...</td>\n",
       "      <td>[6194.0, 2074.0, 2820.0, 1978.0, 5707.0, 1521....</td>\n",
       "      <td>[6194.0, 2480.0, 2679.0, 2074.0, 5707.0, 1978....</td>\n",
       "      <td>[6194.0, 641.0, 2679.0, 2820.0, 5336.0, 2074.0...</td>\n",
       "    </tr>\n",
       "    <tr>\n",
       "      <th>2</th>\n",
       "      <td>2</td>\n",
       "      <td>[5998.0, 190.0, 7327.0, 947.0, 3814.0, 876.0, ...</td>\n",
       "      <td>[484.0, 6194.0, 5336.0, 2074.0, 2679.0, 2480.0...</td>\n",
       "      <td>[484.0, 6194.0, 2074.0, 1978.0, 5876.0, 5707.0...</td>\n",
       "      <td>[484.0, 6194.0, 5876.0, 2480.0, 2679.0, 2074.0...</td>\n",
       "      <td>[484.0, 6194.0, 2679.0, 5336.0, 2074.0, 5876.0...</td>\n",
       "    </tr>\n",
       "    <tr>\n",
       "      <th>3</th>\n",
       "      <td>3</td>\n",
       "      <td>[4812.0, 3935.0, 802.0, 4459.0, 4340.0, 5975.0...</td>\n",
       "      <td>[484.0, 6194.0, 2679.0, 641.0, 5336.0, 5876.0,...</td>\n",
       "      <td>[484.0, 6194.0, 2074.0, 1978.0, 5876.0, 5707.0...</td>\n",
       "      <td>[484.0, 6194.0, 5876.0, 2480.0, 2679.0, 2074.0...</td>\n",
       "      <td>[484.0, 6194.0, 2679.0, 641.0, 5336.0, 5876.0,...</td>\n",
       "    </tr>\n",
       "    <tr>\n",
       "      <th>4</th>\n",
       "      <td>4</td>\n",
       "      <td>[152.0, 195.0, 800.0, 2266.0, 6634.0, 7412.0, ...</td>\n",
       "      <td>[6194.0, 641.0, 2679.0, 5876.0, 2074.0, 1978.0...</td>\n",
       "      <td>[6194.0, 2074.0, 1978.0, 5876.0, 5707.0, 2679....</td>\n",
       "      <td>[6194.0, 5876.0, 2679.0, 2074.0, 5707.0, 1978....</td>\n",
       "      <td>[6194.0, 641.0, 2679.0, 5876.0, 5336.0, 2074.0...</td>\n",
       "    </tr>\n",
       "  </tbody>\n",
       "</table>\n",
       "</div>"
      ],
      "text/plain": [
       "   user_id                                           movie_id  \\\n",
       "0        0  [12.0, 6201.0, 5542.0, 2025.0, 190.0, 5358.0, ...   \n",
       "1        1  [2515.0, 1540.0, 5210.0, 1608.0, 3590.0, 7215....   \n",
       "2        2  [5998.0, 190.0, 7327.0, 947.0, 3814.0, 876.0, ...   \n",
       "3        3  [4812.0, 3935.0, 802.0, 4459.0, 4340.0, 5975.0...   \n",
       "4        4  [152.0, 195.0, 800.0, 2266.0, 6634.0, 7412.0, ...   \n",
       "\n",
       "                                      predict_income  \\\n",
       "0  [484.0, 6194.0, 641.0, 2679.0, 2820.0, 5876.0,...   \n",
       "1  [6194.0, 641.0, 2679.0, 2820.0, 5336.0, 2074.0...   \n",
       "2  [484.0, 6194.0, 5336.0, 2074.0, 2679.0, 2480.0...   \n",
       "3  [484.0, 6194.0, 2679.0, 641.0, 5336.0, 5876.0,...   \n",
       "4  [6194.0, 641.0, 2679.0, 5876.0, 2074.0, 1978.0...   \n",
       "\n",
       "                                predict_satisfaction  \\\n",
       "0  [484.0, 6194.0, 2074.0, 2820.0, 1978.0, 5876.0...   \n",
       "1  [6194.0, 2074.0, 2820.0, 1978.0, 5707.0, 1521....   \n",
       "2  [484.0, 6194.0, 2074.0, 1978.0, 5876.0, 5707.0...   \n",
       "3  [484.0, 6194.0, 2074.0, 1978.0, 5876.0, 5707.0...   \n",
       "4  [6194.0, 2074.0, 1978.0, 5876.0, 5707.0, 2679....   \n",
       "\n",
       "                              predict_by_whatch_time  \\\n",
       "0  [484.0, 6194.0, 5876.0, 2480.0, 2679.0, 2074.0...   \n",
       "1  [6194.0, 2480.0, 2679.0, 2074.0, 5707.0, 1978....   \n",
       "2  [484.0, 6194.0, 5876.0, 2480.0, 2679.0, 2074.0...   \n",
       "3  [484.0, 6194.0, 5876.0, 2480.0, 2679.0, 2074.0...   \n",
       "4  [6194.0, 5876.0, 2679.0, 2074.0, 5707.0, 1978....   \n",
       "\n",
       "                                   predict_by_scores  \n",
       "0  [484.0, 6194.0, 641.0, 2679.0, 2820.0, 5876.0,...  \n",
       "1  [6194.0, 641.0, 2679.0, 2820.0, 5336.0, 2074.0...  \n",
       "2  [484.0, 6194.0, 2679.0, 5336.0, 2074.0, 5876.0...  \n",
       "3  [484.0, 6194.0, 2679.0, 641.0, 5336.0, 5876.0,...  \n",
       "4  [6194.0, 641.0, 2679.0, 5876.0, 5336.0, 2074.0...  "
      ]
     },
     "execution_count": 68,
     "metadata": {},
     "output_type": "execute_result"
    }
   ],
   "source": [
    "%%time\n",
    "test_part[\"predict_by_scores\"] = test_part['user_id'].apply(my_func)\n",
    "test_part.head()"
   ]
  },
  {
   "cell_type": "code",
   "execution_count": 69,
   "id": "72161b9a-8884-431c-924d-7e97f72c9025",
   "metadata": {},
   "outputs": [
    {
     "data": {
      "text/plain": [
       "{'ndcg': 0.13037015044957553, 'recall': 0.06096128345309949}"
      ]
     },
     "execution_count": 69,
     "metadata": {},
     "output_type": "execute_result"
    }
   ],
   "source": [
    "evaluate_recommender(df=test_part, model_preds_col=\"predict_by_scores\")"
   ]
  },
  {
   "cell_type": "code",
   "execution_count": null,
   "id": "abc82558-4acb-4e80-965d-1032dcd0b778",
   "metadata": {},
   "outputs": [],
   "source": []
  }
 ],
 "metadata": {
  "kernelspec": {
   "display_name": "Python 3 (ipykernel)",
   "language": "python",
   "name": "python3"
  },
  "language_info": {
   "codemirror_mode": {
    "name": "ipython",
    "version": 3
   },
   "file_extension": ".py",
   "mimetype": "text/x-python",
   "name": "python",
   "nbconvert_exporter": "python",
   "pygments_lexer": "ipython3",
   "version": "3.12.6"
  }
 },
 "nbformat": 4,
 "nbformat_minor": 5
}
